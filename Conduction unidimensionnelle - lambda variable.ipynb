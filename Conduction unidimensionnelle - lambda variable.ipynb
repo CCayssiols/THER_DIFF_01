{
 "cells": [
  {
   "cell_type": "markdown",
   "metadata": {},
   "source": [
    "<div style='background-image: url(\"main.png\") ; padding: 0px ; background-size: cover ; border-radius: 5px ; height: 200px ; width: 100%'>\n",
    "    <div style=\"float: right ; margin: 20px ; padding: 20px ; background: rgba(255 , 255 , 255 , 0.9) ; width: 50% ; height: 150px\">\n",
    "        <div style=\"position: relative ; top: 50% ; transform: translatey(-50%)\">\n",
    "            <div style=\"font-size: xx-large ; font-weight: 900 ; color: rgba(0 , 0 , 0 , .8) ; line-height: 100%\">Diffusion thermique\n",
    "            </div>\n",
    "            <div style=\"font-size: large ; padding-top: 20px ; color: rgba(0 , 0 , 0 , 0.5)\">Conduction unidimensionnelle avec conductivité variable| Étude transitoire\n",
    "             </div>\n",
    "        </div>\n",
    "    </div>\n",
    "</div>"
   ]
  },
  {
   "cell_type": "code",
   "execution_count": 1,
   "metadata": {},
   "outputs": [],
   "source": [
    "%matplotlib widget\n",
    "import numpy as np\n",
    "import matplotlib.pyplot as plt"
   ]
  },
  {
   "cell_type": "markdown",
   "metadata": {},
   "source": [
    "# Mise en œuvre du problème physique\n",
    "On étudie la résolution numérique de l'équation de la chaleur dans un système unidimensionnel, de conductivité $\\lambda$ dépendant de $x$, sans terme source. Un tel système obéit à l'équation différentielle :\n",
    "$$\\dfrac{\\partial T}{\\partial t}=\\dfrac{1}{\\mu c_p}\\dfrac{\\partial}{\\partial x}\\left(\\lambda(x)\\dfrac{\\partial T}{\\partial x}\\right)=\\dfrac{1}{\\mu c_p}\\left(\\dfrac{\\partial \\lambda}{\\partial x}\\dfrac{\\partial T}{\\partial x}+\\lambda \\dfrac{\\partial^2 T}{\\partial x^2} \\right)$$\n",
    "\n",
    "&nbsp;\n",
    "Les conditions aux limites seront les suivantes : on imposera une température $T_g$ en $x=0$ et $T_d$ en $x=L$.\n",
    "\n",
    "&nbsp;\n",
    "On cherchera à tracer l'évolution de la température en fonction de $x$ au cours du temps."
   ]
  },
  {
   "cell_type": "markdown",
   "metadata": {},
   "source": [
    "## Paramètres physiques de la paroi étudiée :\n",
    "Les grandeurs physiques à implémenter sont $\\lambda$ notée `lambda_th`, $\\mu$ notée `mu` et $c_p$ noté `cp` que l'on rassemblera sous la valeur du coefficient de diffusion thermique $D_\\text{th}=\\frac{\\lambda}{\\mu c_p}$ noté `Dth`, ainsi que la longueur du domaine de calcul $L$ notée `L_space`.\n",
    "\n",
    "&nbsp;\n",
    "La conductivité sera codée sous la forme d'une liste de longueur `N_space` contenant les valeurs de $\\lambda$. On testera tout d'abord une variation brutale en $x=\\frac{L}{2}$.\n",
    "* $\\left\\lbrace\\begin{array}{l}\n",
    "x<\\frac{L}{2}~:~\\lambda(x)=\\lambda_g \\\\\n",
    "x\\geq\\frac{L}{2}~:~\\lambda(x)=\\lambda_d\n",
    "\\end{array}\\right.$\n",
    "\n",
    "&nbsp; \n",
    "On pourra également tester une variation linéaire de la conductivité, ou tout autre fonction continue : \n",
    "$$\\lambda=\\lambda_g-\\frac{\\lambda_d-\\lambda_g}{L}x$$"
   ]
  },
  {
   "cell_type": "code",
   "execution_count": 2,
   "metadata": {},
   "outputs": [],
   "source": [
    "mu = 100                  # masse volumique\n",
    "cp = 10                   # capacité thermique\n",
    "lambda_thg = 150\n",
    "lambda_thd = 50\n",
    "L_space = 1               # largeur du mur pour le cas plan"
   ]
  },
  {
   "cell_type": "markdown",
   "metadata": {},
   "source": [
    "## Conditions aux limites : \n",
    "Les valeurs choisies sont les suivantes :\n",
    "* $T_g=40~^\\circ\\text{C}$, notée `Tg`,\n",
    "* $T_d=10~^\\circ\\text{C}$, notée `Td`."
   ]
  },
  {
   "cell_type": "code",
   "execution_count": 3,
   "metadata": {},
   "outputs": [],
   "source": [
    "Tg=40               # température à gauche\n",
    "Td=10               # température à droite"
   ]
  },
  {
   "cell_type": "markdown",
   "metadata": {},
   "source": [
    "## Paramètres numériques de la simulation \n",
    "La durée de la simulation et les paramètres de discrétisation sont également renseignés :\n",
    "* durée : $T=2~\\text{s}$, noté `L_time`,\n",
    "* nombre d'intervalles de temps $N_t$, noté `N_time`,\n",
    "* nombre d'intervalles d'espace $N_x$, noté `N_space`."
   ]
  },
  {
   "cell_type": "code",
   "execution_count": 4,
   "metadata": {},
   "outputs": [],
   "source": [
    "## Attention! la convergence numérique est conditionnelle, si N_space augmente, N_time doit également augmenter\n",
    "L_time=2                 # durée de la simulation\n",
    "N_time=3000              # discrétisation spatiale\n",
    "N_space=50               # discrétisation temporelle\n",
    "dx=L_space/(N_space-1)   # pas d'espace\n",
    "dt=L_time/(N_time-1)     # pas de temps"
   ]
  },
  {
   "cell_type": "markdown",
   "metadata": {},
   "source": [
    "On peut alors coder la conductivité :"
   ]
  },
  {
   "cell_type": "code",
   "execution_count": 5,
   "metadata": {},
   "outputs": [],
   "source": [
    "## Variation brutale (décommenter les lignes ci-dessous)\n",
    "#lambda_th=[lambda_thg for i in range(N_space)]\n",
    "#for i in range(N_space):\n",
    "#    if i*dx > L_space/2:\n",
    "#        lambda_th[i]=lambda_thd\n",
    "        \n",
    "## Variation linéaire (décommenter les lignes ci-dessous)\n",
    "lambda_th=[lambda_thg +(lambda_thg-lambda_thd)*i*dx/L_space for i in range(N_space)]"
   ]
  },
  {
   "cell_type": "markdown",
   "metadata": {},
   "source": [
    "# Résolution numérique du problème physique\n",
    "## Schéma numérique pour le calcul de $\\Delta T$\n",
    "La relation de Taylor écrite en $x+\\text{d}x$ et $x-\\text{d}x$ permet d'établir :\n",
    "$$\\left\\lbrace\n",
    "\\begin{array}{l}\n",
    "T(x+\\text{d}x) \\simeq T(x) + \\text{d}x \\dfrac{\\partial T}{\\partial x} + \\dfrac{\\text{d}x^2}{2} \\dfrac{\\partial^2 T}{\\partial x^2}\\\\\n",
    "T(x-\\text{d}x) \\simeq T(x) - \\text{d}x \\dfrac{\\partial T}{\\partial x} + \\dfrac{\\text{d}x^2}{2} \\dfrac{\\partial^2 T}{\\partial x^2}\n",
    "\\end{array}\n",
    "\\right.$$\n",
    "\n",
    "\n",
    "dont on peut déduire l'approximation suivante :\n",
    "$$\\dfrac{\\partial^2 T}{\\partial x^2}\\simeq\\dfrac{T(x+\\text{d}x)-2T(x)+T(x+\\text{d}x)}{\\text{d}x^2}$$\n",
    "\n",
    "\n",
    "En remarquant que $x$ est représenté par `x[i]` et est donc égal à $i\\times \\text{d}x$, soit `x[i]=i*dx`, et notant $T(x)=T(i\\text{d}x)=T_{i}$, il vient :\n",
    "$$\\begin{array}{l}\n",
    "T(x+\\text{d}x)=T((i+1)\\Delta x)=T_{i+1}\\\\\n",
    "T(x-\\text{d}x)=T((i-1)\\Delta x)=T_{i-1}\n",
    "\\end{array}$$\n",
    "\n",
    "\n",
    "On peut donc approximer le calcul du laplacien en coordonnées cartésiennes au point $x$ par :\n",
    "$$\\boxed{\\Delta T_i\\simeq \\dfrac{T_{i+1}-2 T_i + T_{i-1}}{\\Delta x^2}}$$\n",
    "\n",
    "&nbsp;\n",
    "La liste (où le vecteur) permettant de stocker les valeurs de température ayant un nombre d'éléments fixé `N_space`, on doit alors traiter séparément le calcul du laplacien aux points `i = 0` et `i = N-1` en exploitant les conditions aux limites.\n",
    "* À gauche de `i = 0` la température est connue et vaut `Tg`,\n",
    "* À droite de `i = N_space-1` la température est connue et vaut `Td`.\n"
   ]
  },
  {
   "cell_type": "code",
   "execution_count": 6,
   "metadata": {},
   "outputs": [],
   "source": [
    "def laplacien_cart(liste,dx,liste_g,liste_d):\n",
    "    n=len(liste)\n",
    "    result=[0 for i in range(N_space)]\n",
    "    for i in range(1,n-1):\n",
    "        result[i]=(liste[i+1]-2*liste[i]+liste[i-1])/dx**2\n",
    "    result[0]=(liste[1]-2*liste[0]+liste_g)/dx**2         #liste[-1] ne donne pas la bonne température \n",
    "    result[n-1]=(liste_d-2*liste[n-1]+liste[n-1-1])/dx**2   #liste[n] n'est pas définie\n",
    "    return result"
   ]
  },
  {
   "cell_type": "markdown",
   "metadata": {},
   "source": [
    "## Dérivée spatiale simple d'une grandeur quelconque\n",
    "On note $U$ une fonction de $x$ quelconque, en utilisant les développements de Taylor précédents, on peut écrire : \n",
    "$$\\dfrac{\\partial U}{\\partial x}\\simeq \\dfrac{U(x+\\text{dx})-U(x-\\text{d}x)}{2\\text{d}x}$$\n",
    "\n",
    "&nbsp;\n",
    "En utilisant les notations introduites précédemment, il vient alors :\n",
    "$$\\boxed{\\dfrac{\\partial U}{\\partial x}_i\\simeq \\dfrac{U_{i+1}-U_{i-1}}{2\\Delta x}}$$\n",
    "\n",
    "&nbsp;\n",
    "&nbsp;\n",
    "La liste (où le vecteur) permettant de stocker les valeurs de température ou de conductivité thermique ayant un nombre d'éléments fixé `N_space`, on doit alors traiter séparément le calcul de la dérivée partielle aux points `i = 0` et `i = N-1` en exploitant les conditions aux limites.\n",
    "* À gauche de `i = 0` la température est connue et vaut `Tg`, la conductivité est connue et vaut $\\lambda(x=0)$,\n",
    "* À droite de `i = N_space-1` la température est connue et vaut `Td`, la conductivité est connue et vaut $\\lambda(x=L)$."
   ]
  },
  {
   "cell_type": "code",
   "execution_count": 7,
   "metadata": {},
   "outputs": [],
   "source": [
    "def der_x(liste,dx,liste_g,liste_d):\n",
    "    n=len(liste)\n",
    "    result=[0 for i in range(N_space)]\n",
    "    for i in range(1,n-1):\n",
    "        result[i]=(liste[i]-liste[i-1])/dx\n",
    "    result[0]=(liste[1]-liste[0])/dx         #liste[-1] ne donne pas la bonne température \n",
    "    result[n-1]=(liste[n-1]-liste[n-1-1])/dx   #liste[n] n'est pas définie\n",
    "    return result"
   ]
  },
  {
   "cell_type": "markdown",
   "metadata": {},
   "source": [
    "## Dérivée temporelle\n",
    "\n",
    "En s'inspirant de ce qui a été fait pour le laplacien, on peut écrire :\n",
    "$$\\dfrac{\\partial T}{\\partial t}\\simeq \\dfrac{T(t+\\text{d}t) - T(t)}{\\text{d}t}$$\n",
    "\n",
    "&nbsp;\n",
    "En discrétisant le temps comme nous l'avons fait pour l'espace (on prendra l'indice $k$, et on le notera en exposant pour le différencier de l'indice $i$ spatial), il vient :\n",
    "$$\\boxed{\\dfrac{\\partial T}{\\partial t}^k \\simeq \\dfrac{T^{k+1} - T^k}{\\Delta t}}$$\n",
    "\n",
    "&nbsp;\n"
   ]
  },
  {
   "cell_type": "markdown",
   "metadata": {},
   "source": [
    "## Implémentation finale\n",
    "Ainsi l'expression discrète de l'équation de la chaleur en 1D cartésien peut s'exprimer sous la forme :\n",
    "$$\\dfrac{T^{k+1}_i - T^k_i}{\\Delta t} = \\dfrac{1}{\\mu c_p}\\left(\\dfrac{\\lambda_{i+1}-\\lambda_{i-1}}{2\\Delta x}\\dfrac{T_{i+1}^k-T_{i-1}^k}{2\\Delta x}+\\lambda_i\\times\\left( \\dfrac{T_{i+1}^k-2 T_i^k + T_{i-1}^k}{\\Delta x^2}\\right)\\right)$$\n",
    "\n",
    "&nbsp;\n",
    "Cette relation permet d'écrire de façon explicite :\n",
    "$$\\boxed{T^{k+1}_i=T^k_i+\\Delta t\\times\\dfrac{1}{\\mu c_p}\\left(\\dfrac{\\lambda_{i+1}-\\lambda_{i-1}}{2\\Delta x}\\dfrac{T_{i+1}^k-T_{i-1}^k}{2\\Delta x}+\\lambda_i\\times\\left( \\dfrac{T_{i+1}^k-2 T_i^k + T_{i-1}^k}{\\Delta x^2}\\right)\\right)}$$\n",
    "\n",
    "&nbsp;\n",
    "La connaissance des diverses valeurs de $T_i^k$ pour $i\\in[0,N_x]$ permet donc de &laquo;prévoir&raquo; l'ensemble des valeurs futures de $T_i^{k+1}$, à condition de lui donner une première liste de valeurs correspondant à $T_i^{k=0}$. Il faut donc commencer par initialiser la température."
   ]
  },
  {
   "cell_type": "markdown",
   "metadata": {},
   "source": [
    "### Initialisation de la température dans la paroi\n",
    "La température initiale $T_\\text{init}$ est noté `Tinit`. On l'utilise pour initialiser une première liste qui permettra le stockage de l'évolution spatiale de la température à tout instant."
   ]
  },
  {
   "cell_type": "code",
   "execution_count": 8,
   "metadata": {},
   "outputs": [],
   "source": [
    "Tinit=25\n",
    "T=[Tinit for i in range(N_space)] #la paroi est initialisée à 25°C en tous points"
   ]
  },
  {
   "cell_type": "markdown",
   "metadata": {},
   "source": [
    "### Calcul par récurrence et affichage de la carte de température\n",
    "Il ne reste alors qu'à calculer itérativement les températures en tout point du mur pour les divers instants. On procède pour celà par étapes :\n",
    "* on calcule le laplacien à l'aide de la fonction `laplacien_cart` en lui donnant les bons arguments `T, dx, Tg, Td`,\n",
    "* on calcul de même les dérivées premières de la température et de la conductivité thermique à l'aide de la fonction `der_x` en lui donnant les bons arguments : tantôt `T, dx, Tg, Td`, tantôt `lambda_th, dx, lambda_thg, lambda_thd`,\n",
    "* on impose les conditions aux limites `T[0]=Tg`et `T[N_space-1]=Td`,\n",
    "* on calcule la nouvelle distribution de température avec la relation ci-desssus. \n",
    "\n",
    "&nbsp;\n",
    "L'affichage de la carte de température se fait avec les lignes de code ci-dessous, qu'il vaut mieux ne pas trop modifier...\n"
   ]
  },
  {
   "cell_type": "code",
   "execution_count": 9,
   "metadata": {},
   "outputs": [
    {
     "data": {
      "application/vnd.jupyter.widget-view+json": {
       "model_id": "1c3dde35fe6744db87cf9490c4051ab7",
       "version_major": 2,
       "version_minor": 0
      },
      "image/png": "[encoded data removed]",
      "text/plain": [
       "Canvas(toolbar=Toolbar(toolitems=[('Home', 'Reset original view', 'home', 'home'), ('Back', 'Back to previous …"
      ]
     },
     "metadata": {},
     "output_type": "display_data"
    }
   ],
   "source": [
    "Temp=[T for i in range(N_space)] # on bidimensionnalise le résultat de calcul en le copiant \"verticalement\"\n",
    "plt.figure('Cas cartésien')\n",
    "image = plt.imshow(Temp, interpolation='nearest', animated=True, clim=(10,40), cmap='jet')\n",
    "plt.colorbar()\n",
    "plt.xlabel('ix')\n",
    "plt.ylabel('iz')\n",
    "plt.ion()"
   ]
  },
  {
   "cell_type": "markdown",
   "metadata": {},
   "source": [
    "Le calcul peut alors être lancé et la carte de température ci-dessous va se mettre à jour tous les `100dt`."
   ]
  },
  {
   "cell_type": "code",
   "execution_count": 10,
   "metadata": {},
   "outputs": [],
   "source": [
    "for i in range(N_time+1):\n",
    "    delta_T=laplacien_cart(T,dx,Tg,Td)  \n",
    "    der_T=der_x(T,dx,Tg,Td)\n",
    "    der_lambda=der_x(lambda_th,dx,lambda_thg,lambda_thd) \n",
    "    T[0],T[N_space-1]=Tg,Td\n",
    "    for j in range(1,N_space-1):\n",
    "        T[j]=T[j]+dt*(lambda_th[j]*delta_T[j]+der_T[j]*der_lambda[j])/(mu*cp)\n",
    "        if i % 100 == 0:    # you can change the speed of the plot by increasing the plotting interval\n",
    "            Temp=[T for i in range(N_space)]\n",
    "            time=i*dt\n",
    "            plt.title(\"t = %.2f s\" % time)\n",
    "            image.set_data(Temp)\n",
    "            plt.gcf().canvas.draw()\n",
    "        "
   ]
  },
  {
   "cell_type": "markdown",
   "metadata": {},
   "source": [
    "Lorsque la simulation précédente est terminée, il ne reste finalement qu'à comparer le résultat numérique et le résultat théorique pour valider la démarche."
   ]
  },
  {
   "cell_type": "code",
   "execution_count": 11,
   "metadata": {},
   "outputs": [
    {
     "data": {
      "application/vnd.jupyter.widget-view+json": {
       "model_id": "c85acf3d309f41feb9de95694b74b8d1",
       "version_major": 2,
       "version_minor": 0
      },
      "image/png": "[encoded data removed]",
      "text/plain": [
       "Canvas(toolbar=Toolbar(toolitems=[('Home', 'Reset original view', 'home', 'home'), ('Back', 'Back to previous …"
      ]
     },
     "metadata": {},
     "output_type": "display_data"
    }
   ],
   "source": [
    "plt.figure('Température sur l\\'axe du mur')\n",
    "x=np.linspace(0,L_space, N_space)\n",
    "\n",
    "plt.plot(x, T, label='Courbe numérique')\n",
    "\n",
    "T_th=2*lambda_thd*(Td-Tg)*x/(L_space*(lambda_thd+lambda_thg))+Tg # Décommenter si variation brutale\n",
    "for i in range(N_space):\n",
    "    if i*dx > L_space/2:\n",
    "        T_th[i]=2*lambda_thg*(Td-Tg)*(x[i]-L_space)/(L_space*(lambda_thd+lambda_thg))+Td\n",
    "\n",
    "# Commenter les lignes ci-dessous dans le cas d'une variation brutale\n",
    "alpha=(lambda_thg-lambda_thd)/L_space\n",
    "T_th=Tg+(Td-Tg)*np.log((lambda_thg+alpha*x)/lambda_thg)/np.log((lambda_thg+alpha*L_space)/lambda_thg) \n",
    "\n",
    "plt.plot(x,T_th, label='Courbe théorique') \n",
    "\n",
    "plt.legend()\n",
    "plt.xlabel(\"$x$ en m\")\n",
    "plt.ylabel(\"$T$ en $^\\circ$C\")\n",
    "plt.grid(True)\n",
    "plt.show()"
   ]
  },
  {
   "cell_type": "markdown",
   "metadata": {},
   "source": [
    "*Note :* Pour des raisons que j'ignore à ce jour, il faut relancer la toute première ligne de code (celle contenant `% matplotlib ...` pour pouvoir faire tourner à nouveau la mise à jour des courbes..."
   ]
  },
  {
   "cell_type": "code",
   "execution_count": 12,
   "metadata": {},
   "outputs": [
    {
     "name": "stdout",
     "output_type": "stream",
     "text": [
      "22.821558955335366 22.806002968243586\n"
     ]
    }
   ],
   "source": [
    "print(T[N_space//2], T_th[N_space//2])"
   ]
  },
  {
   "cell_type": "code",
   "execution_count": null,
   "metadata": {},
   "outputs": [],
   "source": []
  }
 ],
 "metadata": {
  "kernelspec": {
   "display_name": "Python 3",
   "language": "python",
   "name": "python3"
  },
  "language_info": {
   "codemirror_mode": {
    "name": "ipython",
    "version": 3
   },
   "file_extension": ".py",
   "mimetype": "text/x-python",
   "name": "python",
   "nbconvert_exporter": "python",
   "pygments_lexer": "ipython3",
   "version": "3.8.8"
  }
 },
 "nbformat": 4,
 "nbformat_minor": 2
}
